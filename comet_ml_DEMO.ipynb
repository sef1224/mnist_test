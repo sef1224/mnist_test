{
 "cells": [
  {
   "cell_type": "code",
   "execution_count": 1,
   "metadata": {},
   "outputs": [],
   "source": [
    "import chainer\n",
    "import chainer.functions as F\n",
    "import chainer.links as L\n",
    "from chainer import training\n",
    "from chainer.training import extensions\n",
    "import chainerx\n",
    "\n",
    "import numpy as np\n",
    "import matplotlib.pyplot as plt\n",
    "%matplotlib inline"
   ]
  },
  {
   "cell_type": "code",
   "execution_count": 2,
   "metadata": {},
   "outputs": [],
   "source": [
    "from comet_ml import Experiment\n",
    "def log_cometml(exp, _log_report='LogReport'):\n",
    "    @training.make_extension(trigger=(1, 'epoch'))\n",
    "    def _log_exp(trainer):\n",
    "        log_report = trainer.get_extension(_log_report)\n",
    "        lastest_log = log_report.log[-1]\n",
    "        n_epoch = lastest_log.pop('epoch')\n",
    "        exp.log_metrics(lastest_log, step=n_epoch)\n",
    "    return _log_exp"
   ]
  },
  {
   "cell_type": "code",
   "execution_count": 3,
   "metadata": {},
   "outputs": [],
   "source": [
    "# define Model\n",
    "class MLP(chainer.Chain):\n",
    "\n",
    "    def __init__(self, n_units, n_out):\n",
    "        super(MLP, self).__init__()\n",
    "        with self.init_scope():\n",
    "            # the size of the inputs to each layer will be inferred\n",
    "            self.l1 = L.Linear(None, n_units)  # n_in -> n_units\n",
    "            self.l2 = L.Linear(None, n_units)  # n_units -> n_units\n",
    "            self.l3 = L.Linear(None, n_out)  # n_units -> n_out\n",
    "\n",
    "    def forward(self, x):\n",
    "        h1 = F.relu(self.l1(x))\n",
    "        h2 = F.relu(self.l2(h1))\n",
    "        return self.l3(h2)"
   ]
  },
  {
   "cell_type": "code",
   "execution_count": 4,
   "metadata": {},
   "outputs": [],
   "source": [
    "# define hyperparameters\n",
    "device = chainer.get_device(0) #CPU = -1, GPU 0~\n",
    "unit = 784\n",
    "n_out = 10\n",
    "batchsize = 100\n",
    "epoch = 20"
   ]
  },
  {
   "cell_type": "code",
   "execution_count": 5,
   "metadata": {},
   "outputs": [],
   "source": [
    "# Set up a neural network to train\n",
    "# Classifier reports softmax cross entropy loss and accuracy at every\n",
    "# iteration, which will be used by the PrintReport extension below.\n",
    "model = L.Classifier(MLP(unit, n_out))\n",
    "model.to_device(device)\n",
    "device.use()"
   ]
  },
  {
   "cell_type": "code",
   "execution_count": 6,
   "metadata": {},
   "outputs": [
    {
     "data": {
      "text/plain": [
       "<chainer.optimizers.adam.Adam at 0x177fb557198>"
      ]
     },
     "execution_count": 6,
     "metadata": {},
     "output_type": "execute_result"
    }
   ],
   "source": [
    "# Setup an optimizer Adam\n",
    "optimizer = chainer.optimizers.Adam()\n",
    "optimizer.setup(model)"
   ]
  },
  {
   "cell_type": "code",
   "execution_count": 7,
   "metadata": {},
   "outputs": [],
   "source": [
    "# Load DATASET (MNIST)\n",
    "train, test = chainer.datasets.get_mnist()\n",
    "\n",
    "train_iter = chainer.iterators.SerialIterator(train, batchsize)\n",
    "test_iter = chainer.iterators.SerialIterator(test, batchsize, repeat=False, shuffle=False)"
   ]
  },
  {
   "cell_type": "code",
   "execution_count": 8,
   "metadata": {},
   "outputs": [],
   "source": [
    "# Set up a trainer\n",
    "updater = training.updaters.StandardUpdater(train_iter, optimizer, device=device)\n",
    "trainer = training.Trainer(updater, (epoch, 'epoch'), out='result')\n",
    "trainer.extend(extensions.Evaluator(test_iter, model, device=device))\n",
    "trainer.extend(extensions.LogReport())\n",
    "trainer.extend(extensions.PrintReport(['epoch', 'main/loss', 'validation/main/loss',\n",
    "                                        'main/accuracy', 'validation/main/accuracy', 'elapsed_time']))"
   ]
  },
  {
   "cell_type": "code",
   "execution_count": 9,
   "metadata": {},
   "outputs": [
    {
     "name": "stderr",
     "output_type": "stream",
     "text": [
      "COMET INFO: Experiment is live on comet.ml https://www.comet.ml/sef1224/mnist-demo/71fb17a2785c4995ac35c18695fa6b29\n",
      "\n"
     ]
    }
   ],
   "source": [
    "#Comet.ml settings\n",
    "experiment = Experiment(api_key=\"urqETfWL1zb6MAU0puID4qcxS\", project_name=\"MNIST_DEMO\", workspace=\"sef1224\")\n",
    "experiment.set_name('MLP')\n",
    "hyper_params = {\n",
    "    'model_name':'MLP',\n",
    "    'unit':unit,\n",
    "    'n_out': n_out,\n",
    "    'batch_size': batchsize,\n",
    "    'epoch': epoch,\n",
    "}\n",
    "experiment.log_parameters(hyper_params)\n",
    "trainer.extend(log_cometml(experiment))"
   ]
  },
  {
   "cell_type": "code",
   "execution_count": 10,
   "metadata": {},
   "outputs": [
    {
     "name": "stdout",
     "output_type": "stream",
     "text": [
      "epoch       main/loss   validation/main/loss  main/accuracy  validation/main/accuracy  elapsed_time\n",
      "1           0.199006    0.0969505             0.940933       0.9679                    4.36417       \n",
      "2           0.0737331   0.0744919             0.9775         0.9753                    6.77184       \n",
      "3           0.0491073   0.0704848             0.983966       0.9781                    9.06342       \n",
      "4           0.0365379   0.0715403             0.988131       0.9788                    11.7402       \n",
      "5           0.0280298   0.0750446             0.990799       0.9781                    14.3778       \n",
      "6           0.0239707   0.0819837             0.992065       0.9793                    17.0652       \n",
      "7           0.0194489   0.0886457             0.993699       0.9787                    19.6808       \n",
      "8           0.0173833   0.0893994             0.993965       0.979                     22.6359       \n",
      "9           0.0169483   0.076358              0.994432       0.9827                    25.5339       \n",
      "10          0.012586    0.0906431             0.995665       0.9793                    28.5943       \n",
      "11          0.0171741   0.0844401             0.994848       0.9809                    31.2737       \n",
      "12          0.0108117   0.11639               0.996415       0.9749                    34.4306       \n",
      "13          0.0136348   0.0927008             0.995582       0.9811                    36.6446       \n",
      "14          0.00827706  0.110574              0.997182       0.9806                    38.8437       \n",
      "15          0.0123942   0.0987178             0.996382       0.9814                    41.4787       \n",
      "16          0.00904366  0.0844721             0.997299       0.9832                    43.6926       \n",
      "17          0.0102341   0.0975227             0.996799       0.982                     45.9017       \n",
      "18          0.011045    0.100954              0.996982       0.9812                    49.9302       \n",
      "19          0.00777603  0.100565              0.997716       0.9816                    52.1798       \n",
      "20          0.00670763  0.109462              0.997916       0.9812                    54.3476       \n"
     ]
    }
   ],
   "source": [
    "trainer.run()"
   ]
  },
  {
   "cell_type": "code",
   "execution_count": 11,
   "metadata": {},
   "outputs": [
    {
     "data": {
      "text/plain": [
       "<matplotlib.image.AxesImage at 0x17791d18e48>"
      ]
     },
     "execution_count": 11,
     "metadata": {},
     "output_type": "execute_result"
    },
    {
     "data": {
      "image/png": "[encoded data removed]",
      "text/plain": [
       "<Figure size 432x288 with 1 Axes>"
      ]
     },
     "metadata": {
      "needs_background": "light"
     },
     "output_type": "display_data"
    }
   ],
   "source": [
    "x, y = test[41]\n",
    "plt.imshow(x.reshape(28,28),cmap='gray_r')"
   ]
  },
  {
   "cell_type": "code",
   "execution_count": 12,
   "metadata": {},
   "outputs": [
    {
     "name": "stdout",
     "output_type": "stream",
     "text": [
      "Prediction: 7\n",
      "Answer: 7\n"
     ]
    }
   ],
   "source": [
    "model.to_cpu()\n",
    "pred = F.softmax(model.predictor(x.reshape(1, 784))).data\n",
    "print(\"Prediction: \"+str(np.argmax(pred)))\n",
    "print(\"Answer: \"+str(y))"
   ]
  },
  {
   "cell_type": "code",
   "execution_count": 13,
   "metadata": {},
   "outputs": [],
   "source": [
    "#chainer.serializers.save_npz(\"mymodel.npz\", model)"
   ]
  },
  {
   "cell_type": "code",
   "execution_count": 14,
   "metadata": {},
   "outputs": [],
   "source": [
    "#model = L.Classifier(MLP(unit, n_out))\n",
    "#chainer.serializers.load_npz(\"mymodel.npz\", model)"
   ]
  }
 ],
 "metadata": {
  "kernelspec": {
   "display_name": "Python 3",
   "language": "python",
   "name": "python3"
  },
  "language_info": {
   "codemirror_mode": {
    "name": "ipython",
    "version": 3
   },
   "file_extension": ".py",
   "mimetype": "text/x-python",
   "name": "python",
   "nbconvert_exporter": "python",
   "pygments_lexer": "ipython3",
   "version": "3.7.3"
  }
 },
 "nbformat": 4,
 "nbformat_minor": 2
}
